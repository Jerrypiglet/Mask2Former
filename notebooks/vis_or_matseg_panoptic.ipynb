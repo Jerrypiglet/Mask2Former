{
 "cells": [
  {
   "cell_type": "markdown",
   "metadata": {},
   "source": [
    "# visualize or_matseg dataset"
   ]
  },
  {
   "cell_type": "code",
   "execution_count": 3,
   "metadata": {},
   "outputs": [
    {
     "name": "stdout",
     "output_type": "stream",
     "text": [
      "The autoreload extension is already loaded. To reload it, use:\n",
      "  %reload_ext autoreload\n"
     ]
    },
    {
     "ename": "AssertionError",
     "evalue": "/data/OpenRooms_public/im_matseg_pan_seg_rgb_val_instance.json",
     "output_type": "error",
     "traceback": [
      "\u001b[0;31m---------------------------------------------------------------------------\u001b[0m",
      "\u001b[0;31mAssertionError\u001b[0m                            Traceback (most recent call last)",
      "Cell \u001b[0;32mIn[3], line 24\u001b[0m\n\u001b[1;32m     22\u001b[0m metadata \u001b[39m=\u001b[39m get_metadata()\n\u001b[1;32m     23\u001b[0m panoptic_json \u001b[39m=\u001b[39m \u001b[39m'\u001b[39m\u001b[39m/data/OpenRooms_public/im_matseg_pan_seg_rgb_val_instance.json\u001b[39m\u001b[39m'\u001b[39m\n\u001b[0;32m---> 24\u001b[0m \u001b[39massert\u001b[39;00m Path(panoptic_json)\u001b[39m.\u001b[39mexists(), panoptic_json\n\u001b[1;32m     25\u001b[0m image_root \u001b[39m=\u001b[39m \u001b[39m'\u001b[39m\u001b[39m/data/OpenRooms_public\u001b[39m\u001b[39m'\u001b[39m\n\u001b[1;32m     26\u001b[0m panoptic_root \u001b[39m=\u001b[39m \u001b[39m'\u001b[39m\u001b[39m/data/OpenRooms_public/im_pan_seg_rgb\u001b[39m\u001b[39m'\u001b[39m\n",
      "\u001b[0;31mAssertionError\u001b[0m: /data/OpenRooms_public/im_matseg_pan_seg_rgb_val_instance.json"
     ]
    }
   ],
   "source": [
    "%load_ext autoreload\n",
    "%autoreload 2\n",
    "\n",
    "from pathlib import Path\n",
    "import sys\n",
    "import os\n",
    "module_path = os.path.abspath(os.path.join('..'))\n",
    "if module_path not in sys.path:\n",
    "    sys.path.append(module_path)\n",
    "\n",
    "# print(sys.path)\n",
    "\n",
    "# from mask2former.data.datasets.register_or_matseg_panoptic import register_all_or_matseg_panoptic\n",
    "# _root = os.getenv(\"DETECTRON2_DATASETS\", \"../datasets\")\n",
    "# register_all_or_matseg_panoptic(_root)\n",
    "\n",
    "from detectron2.data import MetadataCatalog, DatasetCatalog\n",
    "from panopticapi import utils as panopticapi_utils\n",
    "or_matseg_panoptic_metadata = MetadataCatalog.get(\"or_matseg_panoptic_val\")\n",
    "\n",
    "from mask2former.data.datasets.register_or_matseg_panoptic import load_or_matseg_panoptic_json, get_metadata\n",
    "metadata = get_metadata()\n",
    "panoptic_json = '/data/OpenRooms_public/im_matseg_pan_seg_rgb_val_instance.json'\n",
    "assert Path(panoptic_json).exists(), panoptic_json\n",
    "image_root = '/data/OpenRooms_public'\n",
    "panoptic_root = '/data/OpenRooms_public/im_pan_seg_rgb'\n",
    "\n",
    "dataset_dicts = load_or_matseg_panoptic_json(\n",
    "    panoptic_json, image_root, panoptic_root, metadata\n",
    ")\n",
    "\n",
    "import random\n",
    "import cv2\n",
    "from detectron2.utils.visualizer import Visualizer\n",
    "from google.colab.patches import cv2_imshow\n",
    "\n",
    "# for d in random.sample(dataset_dicts, 1):\n",
    "d = dataset_dicts[1]\n",
    "img = cv2.imread(d[\"file_name\"])\n",
    "visualizer = Visualizer(img[:, :, ::-1], metadata=or_matseg_panoptic_metadata, scale=1)\n",
    "out = visualizer.draw_dataset_dict(d)\n",
    "cv2_imshow(out.get_image()[:, :, ::-1])\n",
    "\n",
    "pan_seg_file_name = d['pan_seg_file_name']\n",
    "assert Path(pan_seg_file_name).exists()\n"
   ]
  },
  {
   "cell_type": "code",
   "execution_count": 24,
   "metadata": {},
   "outputs": [
    {
     "data": {
      "text/plain": [
       "{'file_name': '/data/OpenRooms_public/main_xml1/scene0418_02/im_sdr/im_18.png',\n",
       " 'image_id': 1591,\n",
       " 'pan_seg_file_name': '/data/OpenRooms_public/im_pan_seg_rgb/main_xml1/scene0418_02/im_pan_seg_rgb_18.png',\n",
       " 'segments_info': [{'id': 1,\n",
       "   'category_id': 0,\n",
       "   'iscrowd': 0,\n",
       "   'isthing': False,\n",
       "   'isstuff': 1,\n",
       "   'area': 28623.0},\n",
       "  {'id': 2,\n",
       "   'category_id': 0,\n",
       "   'iscrowd': 0,\n",
       "   'isthing': False,\n",
       "   'isstuff': 1,\n",
       "   'area': 28065.0},\n",
       "  {'id': 3,\n",
       "   'category_id': 0,\n",
       "   'iscrowd': 0,\n",
       "   'isthing': False,\n",
       "   'isstuff': 1,\n",
       "   'area': 81047.0},\n",
       "  {'id': 4,\n",
       "   'category_id': 0,\n",
       "   'iscrowd': 0,\n",
       "   'isthing': False,\n",
       "   'isstuff': 1,\n",
       "   'area': 15549.0},\n",
       "  {'id': 5,\n",
       "   'category_id': 0,\n",
       "   'iscrowd': 0,\n",
       "   'isthing': False,\n",
       "   'isstuff': 1,\n",
       "   'area': 8287.0},\n",
       "  {'id': 6,\n",
       "   'category_id': 0,\n",
       "   'iscrowd': 0,\n",
       "   'isthing': False,\n",
       "   'isstuff': 1,\n",
       "   'area': 52304.0},\n",
       "  {'id': 7,\n",
       "   'category_id': 0,\n",
       "   'iscrowd': 0,\n",
       "   'isthing': False,\n",
       "   'isstuff': 1,\n",
       "   'area': 87112.0}]}"
      ]
     },
     "execution_count": 24,
     "metadata": {},
     "output_type": "execute_result"
    }
   ],
   "source": [
    "d"
   ]
  }
 ],
 "metadata": {
  "kernelspec": {
   "display_name": "py310matsegnerf",
   "language": "python",
   "name": "python3"
  },
  "language_info": {
   "codemirror_mode": {
    "name": "ipython",
    "version": 3
   },
   "file_extension": ".py",
   "mimetype": "text/x-python",
   "name": "python",
   "nbconvert_exporter": "python",
   "pygments_lexer": "ipython3",
   "version": "3.10.12"
  },
  "orig_nbformat": 4
 },
 "nbformat": 4,
 "nbformat_minor": 2
}
